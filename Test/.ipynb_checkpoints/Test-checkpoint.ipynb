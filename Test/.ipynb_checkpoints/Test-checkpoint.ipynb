{
 "cells": [
  {
   "cell_type": "markdown",
   "metadata": {},
   "source": [
    "# Q1"
   ]
  },
  {
   "cell_type": "code",
   "execution_count": 3,
   "metadata": {},
   "outputs": [
    {
     "name": "stdout",
     "output_type": "stream",
     "text": [
      "{}{{]}\n",
      "5\n"
     ]
    }
   ],
   "source": [
    "string  = input()\n",
    "def stringvalid(string) : \n",
    "    stack = [] \n",
    "    invalid=0\n",
    "    for i in range(len(string)):\n",
    "        if string[i]==\"{\" or string[i]==\"(\" or string[i]==\"[\":\n",
    "            stack.append(string[i])\n",
    "        elif string[i]==\"}\" and stack[-1]==\"{\":\n",
    "            stack.pop()\n",
    "        elif string[i]==\")\" and stack[-1]==\"(\":\n",
    "            stack.pop()\n",
    "        elif string[i]==\"]\" and stack[-1]==\"[\":\n",
    "            stack.pop()\n",
    "        elif string[i]==\"}\" or string[i]==\"]\" or string[i]==\")\":\n",
    "            invalid=i\n",
    "    \n",
    "    if stack:\n",
    "        print(invalid+1)\n",
    "    else:\n",
    "        print(\"Sucess\")\n",
    "        \n",
    "output=stringvalid(string)"
   ]
  },
  {
   "cell_type": "code",
   "execution_count": null,
   "metadata": {},
   "outputs": [],
   "source": []
  }
 ],
 "metadata": {
  "kernelspec": {
   "display_name": "Python 3",
   "language": "python",
   "name": "python3"
  },
  "language_info": {
   "codemirror_mode": {
    "name": "ipython",
    "version": 3
   },
   "file_extension": ".py",
   "mimetype": "text/x-python",
   "name": "python",
   "nbconvert_exporter": "python",
   "pygments_lexer": "ipython3",
   "version": "3.7.0"
  }
 },
 "nbformat": 4,
 "nbformat_minor": 2
}
