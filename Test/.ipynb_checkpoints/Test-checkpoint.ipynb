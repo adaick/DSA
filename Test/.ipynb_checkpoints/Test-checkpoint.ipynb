{
 "cells": [
  {
   "cell_type": "markdown",
   "metadata": {},
   "source": [
    "# Q1"
   ]
  },
  {
   "cell_type": "code",
   "execution_count": 3,
   "metadata": {},
   "outputs": [
    {
     "name": "stdout",
     "output_type": "stream",
     "text": [
      "{}{{]}\n",
      "5\n"
     ]
    }
   ],
   "source": [
    "string  = input()\n",
    "def stringvalid(string) : \n",
    "    stack = [] \n",
    "    invalid=0\n",
    "    for i in range(len(string)):\n",
    "        if string[i]==\"{\" or string[i]==\"(\" or string[i]==\"[\":\n",
    "            stack.append(string[i])\n",
    "        elif string[i]==\"}\" and stack[-1]==\"{\":\n",
    "            stack.pop()\n",
    "        elif string[i]==\")\" and stack[-1]==\"(\":\n",
    "            stack.pop()\n",
    "        elif string[i]==\"]\" and stack[-1]==\"[\":\n",
    "            stack.pop()\n",
    "        elif string[i]==\"}\" or string[i]==\"]\" or string[i]==\")\":\n",
    "            invalid=i\n",
    "    \n",
    "    if stack:\n",
    "        print(invalid+1)\n",
    "    else:\n",
    "        print(\"Sucess\")\n",
    "        \n",
    "output=stringvalid(string)"
   ]
  },
  {
   "cell_type": "markdown",
   "metadata": {},
   "source": [
    "# Q4"
   ]
  },
  {
   "cell_type": "code",
   "execution_count": 5,
   "metadata": {},
   "outputs": [
    {
     "name": "stdout",
     "output_type": "stream",
     "text": [
      "Enter number of commands: 5\n",
      "push 2\n",
      "push 1\n",
      "max\n",
      "2\n",
      "pop\n",
      "max\n",
      "2\n"
     ]
    }
   ],
   "source": [
    "class MaxStack:\n",
    "    def __init__(self):\n",
    "        self.main_stack = []\n",
    "        self.max_stack = []\n",
    "\n",
    "    def push(self, data):\n",
    "        self.main_stack.append(data)\n",
    "\n",
    "        if len(self.main_stack) == 1:\n",
    "            self.max_stack.append(data)\n",
    "        elif data > self.max_stack[-1]:\n",
    "            self.max_stack.append(data)\n",
    "        else:\n",
    "            self.max_stack.append(self.max_stack[-1])\n",
    "\n",
    "    def pop(self):\n",
    "        self.max_stack.pop()\n",
    "        return self.main_stack.pop()\n",
    "\n",
    "    def maximum(self):\n",
    "        return self.max_stack[-1]\n",
    "\n",
    "stack = MaxStack()\n",
    "n = int(input(\"Enter number of commands: \"))\n",
    "for i in range(n):\n",
    "    inputt = input().split()\n",
    "    if inputt[0] == 'push':\n",
    "        stack.push(inputt[1])\n",
    "    elif inputt[0] == 'pop':\n",
    "        stack.pop()\n",
    "    elif inputt[0] == \"max\":\n",
    "        print(stack.maximum())"
   ]
  },
  {
   "cell_type": "code",
   "execution_count": 2,
   "metadata": {},
   "outputs": [
    {
     "name": "stdout",
     "output_type": "stream",
     "text": [
      "Enter the number of nodes: 5\n",
      "Enter the node: -1\n",
      "Enter the node: 0\n",
      "Enter the node: 4\n",
      "Enter the node: 0\n",
      "Enter the node: 3\n",
      "4\n"
     ]
    }
   ],
   "source": [
    "class Node:\n",
    "    def __init__(self,data):\n",
    "        self.data = data\n",
    "        self.left  = None\n",
    "        self.right = None\n",
    "\n",
    "def insert(node,data):\n",
    "    if node is None:\n",
    "        return Node(data)\n",
    "\n",
    "    if data <= node.data:\n",
    "        node.left = insert(node.left,data)\n",
    "    else:\n",
    "        node.right = insert(node.right,data)\n",
    "\n",
    "    return node\n",
    "\n",
    "def treeheight(node): \n",
    "    if node is None: \n",
    "        return 0\n",
    "    else:  \n",
    "        Dleft = treeheight(node.left) \n",
    "        Dright = treeheight(node.right) \n",
    " \n",
    "        if (Dleft > Dright): \n",
    "            return Dleft+1\n",
    "        else: \n",
    "            return Dright+1\n",
    "\n",
    "\n",
    "\n",
    "inp = int(input(\"Enter the number of nodes: \"))\n",
    "root = None\n",
    "for i in range(inp):\n",
    "    data = int(input(\"Enter the node: \"))\n",
    "    root = insert(root, data)\n",
    "print(treeheight(root))"
   ]
  },
  {
   "cell_type": "code",
   "execution_count": null,
   "metadata": {},
   "outputs": [],
   "source": []
  }
 ],
 "metadata": {
  "kernelspec": {
   "display_name": "Python 3",
   "language": "python",
   "name": "python3"
  },
  "language_info": {
   "codemirror_mode": {
    "name": "ipython",
    "version": 3
   },
   "file_extension": ".py",
   "mimetype": "text/x-python",
   "name": "python",
   "nbconvert_exporter": "python",
   "pygments_lexer": "ipython3",
   "version": "3.7.0"
  }
 },
 "nbformat": 4,
 "nbformat_minor": 2
}
